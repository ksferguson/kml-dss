{
 "cells": [
  {
   "cell_type": "markdown",
   "metadata": {},
   "source": [
    "# Katy Data Analytics & Machine Learning"
   ]
  },
  {
   "cell_type": "markdown",
   "metadata": {},
   "source": [
    "## Data Science from Scratch\n",
    "\n",
    "Kickoff Meeting: April 6, 2019 @ Cinco Ranch Library, Classroom on 2nd Floor\n",
    "\n",
    "We will be reading through and working exercises from the soon-to-be released Second Edition of Joel Grus' classic book, Data Science from Scratch: First Priciples from Python\n",
    "\n",
    "The Second Edition will not be released until May 13, you can preorder from Amazon and get it that day (https://www.amazon.com/Data-Science-Scratch-Principles-Python/dp/1492041130).\n",
    "\n",
    "This slide deck has some notes about the book:\n",
    "https://docs.google.com/presentation/d/1jk-qrVKCb0-P9P4BVzH75gcVhp5Dy5n1CP_gKnHMNY0/edit#slide=id.p\n",
    "\n",
    "First Edition Code:\n",
    "https://github.com/joelgrus/data-science-from-scratch\n",
    "\n",
    "Misc Background:\n",
    "https://www.youtube.com/user/joelgrus/videos\n",
    "http://joelgrus.com/2016/05/23/fizz-buzz-in-tensorflow/\n"
   ]
  },
  {
   "cell_type": "markdown",
   "metadata": {},
   "source": [
    "## Group\n",
    "\n",
    "#### OS\n",
    "Windows\n",
    "Linux\n",
    "Mac\n",
    "\n",
    "#### Python Experience\n",
    "High \n",
    "Med \n",
    "Low\n",
    "\n",
    "#### Data Science/ML Experience\n",
    "Discuss\n"
   ]
  },
  {
   "cell_type": "markdown",
   "metadata": {},
   "source": [
    "## Topics\n",
    "\n",
    "1. Intro\n",
    "1. Python\n",
    "1. Visualizing Data\n",
    "1. Linear Algebra\n",
    "1. Statistics\n",
    "1. Probability\n",
    "1. Hypothesis & Inference\n",
    "1. Gradient Descent\n",
    "1. Getting Data\n",
    "1. Working with Data\n",
    "1. Machine Learning\n",
    "1. k-Nearest Neighbors\n",
    "1. Naive Bayes\n",
    "1. Simple Linear Regression\n",
    "1. Multiple Regression\n",
    "1. Logistic Regression\n",
    "1. Decision Trees\n",
    "1. Neural Networks\n",
    "1. Clustering\n",
    "1. Natural Language Processing\n",
    "1. Network Analysis\n",
    "1. Recommender Systems\n",
    "1. Databases and SQL\n",
    "1. MapReduce\n",
    "1. Go Forth and Do Data Science"
   ]
  },
  {
   "cell_type": "markdown",
   "metadata": {},
   "source": [
    "## Tools\n",
    "\n",
    "These are just recommendations. You can use what you like:\n",
    "\n",
    "### Github:\n",
    "Signup for a free account www.github.com\n",
    "\n",
    "https://github.com/ksferguson/kml-dss\n",
    "\n",
    "https://gist.github.com/ksferguson/09e41fe7e9a12463f2965bd2dd4b3c37\n",
    "\n",
    "### Anaconda \n",
    "www.anaconda.com\n",
    "\n",
    "### Python 3.6 or so (will verify when we see the book)\n",
    "Install w Conda\n",
    "\n",
    "Example: https://gist.github.com/ksferguson/1a0c1ff39ac77b9f2e2b66b85184fba3\n",
    "\n",
    "dataquest.io\n",
    "\n",
    "### Jupyter Notebooks\n",
    "Install w Conda\n",
    "\n",
    "Example: https://gist.github.com/ksferguson/1a0c1ff39ac77b9f2e2b66b85184fba3\n",
    "\n",
    "### Visual Studio Code\n",
    "https://code.visualstudio.com/download\n",
    "\n",
    "https://code.visualstudio.com/shortcuts/keyboard-shortcuts-linux.pdf\n",
    "\n",
    "\n",
    "\n",
    "Financial/Generic Data\n",
    "\n",
    "quandl.com\n",
    "\n",
    "\n",
    "\n",
    "Interim Meeting to setup people's machien"
   ]
  },
  {
   "cell_type": "markdown",
   "metadata": {},
   "source": [
    "## Python\n",
    "\n",
    "https://www.slideshare.net/TahaniAlManie/python-3-programming-language\n",
    "\n",
    "https://www.slideshare.net/CharizaPladin/zero-to-hero-introduction-to-python3"
   ]
  },
  {
   "cell_type": "code",
   "execution_count": null,
   "metadata": {},
   "outputs": [],
   "source": []
  }
 ],
 "metadata": {
  "kernelspec": {
   "display_name": "kml-dss",
   "language": "python",
   "name": "kml-dss"
  },
  "language_info": {
   "codemirror_mode": {
    "name": "ipython",
    "version": 3
   },
   "file_extension": ".py",
   "mimetype": "text/x-python",
   "name": "python",
   "nbconvert_exporter": "python",
   "pygments_lexer": "ipython3",
   "version": "3.6.8"
  }
 },
 "nbformat": 4,
 "nbformat_minor": 2
}
