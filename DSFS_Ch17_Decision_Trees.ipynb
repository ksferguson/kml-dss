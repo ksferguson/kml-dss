{
 "cells": [
  {
   "cell_type": "markdown",
   "metadata": {},
   "source": [
    "## Data Science from Scratch\n",
    "\n",
    "#### Meeting: Nov 9, 2019 @ Cinco Ranch Library, Classroom on 2nd Floor\n",
    "\n",
    "Reading through and working exercises from the Second Edition of Joel Grus' classic book, Data Science from Scratch: First Principles from Python"
   ]
  },
  {
   "cell_type": "markdown",
   "metadata": {},
   "source": [
    "### Chapter 17 - Decision Trees\n",
    "\n",
    "Focus here is on classification trees with the ID3 algorithm. \n",
    "\n"
   ]
  },
  {
   "cell_type": "markdown",
   "metadata": {},
   "source": [
    "### Entropy"
   ]
  },
  {
   "cell_type": "markdown",
   "metadata": {},
   "source": [
    "Entropy = measure how much information held in given unit\n",
    "\n",
    "High Entropy => poor encoding, limited corresponding information\n",
    "\n",
    "Low Entropy => good encoding, capture of corresponding information"
   ]
  },
  {
   "cell_type": "code",
   "execution_count": 17,
   "metadata": {},
   "outputs": [
    {
     "name": "stdout",
     "output_type": "stream",
     "text": [
      "[0.0, 0.05, 0.1, 0.15, 0.2, 0.25, 0.3, 0.35, 0.4, 0.45, 0.5, 0.55, 0.6, 0.65, 0.7, 0.75, 0.8, 0.85, 0.9, 0.95, 1.0]\n",
      "[-0.0, 0.21609640474436814, 0.33219280948873625, 0.4105448391249309, 0.46438561897747244, 0.5, 0.5210896782498619, 0.5301006104904155, 0.5287712379549449, 0.5184013920502726, 0.5, 0.4743730619375358, 0.44217935649972373, 0.4039674448850756, 0.3602012209808308, 0.31127812445913283, 0.2575424759098898, 0.19929546559146952, 0.13680278410054497, 0.07030055237158808, -0.0]\n"
     ]
    }
   ],
   "source": [
    "import math\n",
    "\n",
    "def log0 (p: float) -> float:\n",
    "    return math.log(p, 2) if p != 0 else 0\n",
    "\n",
    "p = [x/20.0 for x in range(0, 21)]\n",
    "print(p)\n",
    "negplogp = [-x * log0(x) for x in p]\n",
    "print(negplogp)"
   ]
  },
  {
   "cell_type": "code",
   "execution_count": 18,
   "metadata": {},
   "outputs": [
    {
     "data": {
      "text/plain": [
       "Text(0.5, 1.0, 'Entropy')"
      ]
     },
     "execution_count": 18,
     "metadata": {},
     "output_type": "execute_result"
    },
    {
     "data": {
      "image/png": "[encoded data removed]",
      "text/plain": [
       "<Figure size 432x288 with 1 Axes>"
      ]
     },
     "metadata": {
      "needs_background": "light"
     },
     "output_type": "display_data"
    }
   ],
   "source": [
    "import matplotlib.pyplot as plt\n",
    "plt.scatter(p, negplogp, color='green', marker ='o')\n",
    "plt.title('Entropy')"
   ]
  },
  {
   "cell_type": "code",
   "execution_count": 3,
   "metadata": {},
   "outputs": [],
   "source": [
    "from typing import List\n",
    "import math\n",
    "\n",
    "def entropy(class_probabilities: List[float]) -> float:\n",
    "    return sum(-p * math.log(p, 2)\n",
    "              for p in class_probabilities\n",
    "              if p > 0)\n",
    "\n",
    "assert entropy([1.0]) == 0\n",
    "assert entropy([0.5, 0.5]) == 1\n",
    "assert 0.81 < entropy([0.25, 0.75]) < 0.82\n"
   ]
  },
  {
   "cell_type": "code",
   "execution_count": 4,
   "metadata": {},
   "outputs": [],
   "source": [
    "from typing import Any\n",
    "from collections import Counter\n",
    "\n",
    "def class_probabilities(labels: List[Any]) -> List[float]:\n",
    "    total_count = len(labels)\n",
    "    return [count / total_count for count in Counter(labels).values()]\n",
    "\n",
    "def data_entropy(labels: List[Any]) -> float:\n",
    "    return entropy(class_probabilities(labels))\n",
    "\n",
    "assert data_entropy(['a']) == 0\n",
    "assert data_entropy([True, False]) == 1\n",
    "assert data_entropy([3, 4, 4, 4]) == entropy([0.25, 0.75])\n",
    "\n"
   ]
  },
  {
   "cell_type": "markdown",
   "metadata": {},
   "source": [
    "### Entropy of a partition\n",
    "\n",
    "Weighted sum of the entropy of the subsets provided by the partition  "
   ]
  },
  {
   "cell_type": "code",
   "execution_count": 5,
   "metadata": {},
   "outputs": [],
   "source": [
    "def partition_entropy(subsets: List[List[Any]]) -> float:\n",
    "    total_count = sum(len(subset) for subset in subsets)\n",
    "    return sum(data_entropy(subset) * len(subset) / total_count\n",
    "                  for subset in subsets)"
   ]
  },
  {
   "cell_type": "markdown",
   "metadata": {},
   "source": [
    "### Creating a Decision Tree"
   ]
  },
  {
   "cell_type": "code",
   "execution_count": 6,
   "metadata": {},
   "outputs": [],
   "source": [
    "from typing import NamedTuple, Optional\n",
    "\n",
    "# copy data 'inputs' from joel\n",
    "\n",
    "class Candidate(NamedTuple):\n",
    "    level: str\n",
    "    lang: str\n",
    "    tweets: bool\n",
    "    phd: bool\n",
    "    did_well: Optional[bool] = None\n",
    "      \n",
    "                  #  level     lang     tweets  phd  did_well\n",
    "inputs = [Candidate('Senior', 'Java',   False, False, False),\n",
    "          Candidate('Senior', 'Java',   False, True,  False),\n",
    "          Candidate('Mid',    'Python', False, False, True),\n",
    "          Candidate('Junior', 'Python', False, False, True),\n",
    "          Candidate('Junior', 'R',      True,  False, True),\n",
    "          Candidate('Junior', 'R',      True,  True,  False),\n",
    "          Candidate('Mid',    'R',      True,  True,  True),\n",
    "          Candidate('Senior', 'Python', False, False, False),\n",
    "          Candidate('Senior', 'R',      True,  False, True),\n",
    "          Candidate('Junior', 'Python', True,  False, True),\n",
    "          Candidate('Senior', 'Python', True,  True,  True),\n",
    "          Candidate('Mid',    'Python', False, True,  True),\n",
    "          Candidate('Mid',    'Java',   True,  False, True),\n",
    "          Candidate('Junior', 'Python', False, True,  False)\n",
    "         ]"
   ]
  },
  {
   "cell_type": "markdown",
   "metadata": {},
   "source": [
    "decision nodes => make partition\n",
    "leaf nodes => give prediction\n",
    "\n",
    "ID3 Algorithm\n",
    "\n",
    "Given data points => list of attribute values w label\n",
    "\n",
    "* if all data have same label, create leaf node to predict that label\n",
    "* if all attributes have been used, create leaf node to predict most common\n",
    "* try partitioning by each remaining attribute - choose \n",
    "    * choose partition with lowest partition entropy\n",
    "    * add a decision node based on the chosen attribute\n",
    "    * restart algorithm on each partition subset\n",
    "    \n",
    "Note: Greedy algorithm"
   ]
  },
  {
   "cell_type": "code",
   "execution_count": 7,
   "metadata": {},
   "outputs": [
    {
     "name": "stdout",
     "output_type": "stream",
     "text": [
      "level 0.6935361388961919\n",
      "lang 0.8601317128547441\n",
      "tweets 0.7884504573082896\n",
      "phd 0.8921589282623617\n"
     ]
    }
   ],
   "source": [
    "from typing import Dict, TypeVar\n",
    "from collections import defaultdict\n",
    "\n",
    "T = TypeVar('T')\n",
    "\n",
    "def partition_by(inputs: List[T], attribute: str) -> Dict[Any, List [T]]:\n",
    "    partitions: Dict[Any, List [T]] = defaultdict(list)\n",
    "    for input in inputs:\n",
    "        key = getattr(input, attribute)\n",
    "        partitions[key].append(input)\n",
    "    return partitions\n",
    "\n",
    "def partition_entropy_by(inputs: List[Any],\n",
    "                        attribute: str,\n",
    "                        label_attribute: str) -> float:\n",
    "    partitions = partition_by(inputs, attribute)\n",
    "    labels = [[getattr(input, label_attribute) for input in partition]\n",
    "             for partition in partitions.values()]\n",
    "    return partition_entropy(labels)\n",
    "\n",
    "for key in ['level', 'lang', 'tweets', 'phd']:\n",
    "    print(key, partition_entropy_by(inputs, key, 'did_well'))"
   ]
  },
  {
   "cell_type": "code",
   "execution_count": 8,
   "metadata": {},
   "outputs": [],
   "source": [
    "assert 0.69 < partition_entropy_by(inputs, 'level', 'did_well') < 0.70\n",
    "assert 0.86 < partition_entropy_by(inputs, 'lang', 'did_well') < 0.87\n",
    "assert 0.78 < partition_entropy_by(inputs, 'tweets', 'did_well') < 0.79\n",
    "assert 0.89 < partition_entropy_by(inputs, 'phd', 'did_well') < 0.90"
   ]
  },
  {
   "cell_type": "code",
   "execution_count": 9,
   "metadata": {},
   "outputs": [],
   "source": [
    "senior_inputs = [input for input in inputs if input.level == 'Senior']"
   ]
  },
  {
   "cell_type": "code",
   "execution_count": 10,
   "metadata": {},
   "outputs": [],
   "source": [
    "assert 0.4 == partition_entropy_by(senior_inputs, 'lang', 'did_well')\n",
    "assert 0.0 == partition_entropy_by(senior_inputs, 'tweets', 'did_well') \n",
    "assert 0.95 < partition_entropy_by(senior_inputs, 'phd', 'did_well') < 0.96"
   ]
  },
  {
   "cell_type": "markdown",
   "metadata": {},
   "source": [
    "### Putting it all Together"
   ]
  },
  {
   "cell_type": "code",
   "execution_count": 11,
   "metadata": {},
   "outputs": [],
   "source": [
    "from typing import NamedTuple, Union, Any\n",
    "\n",
    "class Leaf(NamedTuple):\n",
    "    value: Any\n",
    "        \n",
    "class Split(NamedTuple):\n",
    "    attribute: str\n",
    "    subtrees: dict\n",
    "    default_value: Any = None\n",
    "            \n",
    "DecisionTree = Union[Leaf, Split]   "
   ]
  },
  {
   "cell_type": "code",
   "execution_count": 12,
   "metadata": {},
   "outputs": [],
   "source": [
    "def classify(tree: DecisionTree, input: Any) -> Any:\n",
    "    \n",
    "    if isinstance(tree, Leaf):\n",
    "        return tree.value\n",
    "    \n",
    "    subtree_key = getattr(input, tree.attribute)\n",
    "    \n",
    "    if subtree_key not in tree.subtrees:\n",
    "        return tree.default_value\n",
    "    \n",
    "    subtree = tree.subtrees[subtree_key]\n",
    "    return classify(subtree, input)\n"
   ]
  },
  {
   "cell_type": "code",
   "execution_count": 13,
   "metadata": {},
   "outputs": [],
   "source": [
    "def build_tree_id3(inputs: List[Any],\n",
    "                  split_attributes: List[str],\n",
    "                  target_attribute: str) -> DecisionTree:\n",
    "\n",
    "    label_counts = Counter(getattr(input, target_attribute) for input in inputs)\n",
    "    most_common_label = label_counts.most_common(1)[0][0]\n",
    "    \n",
    "    if len(label_counts) == 1:\n",
    "        return Leaf(most_common_label)\n",
    "    \n",
    "    if not split_attributes:\n",
    "        return Leaf(most_common_label)\n",
    "    \n",
    "    def split_entropy(attribute: str) -> float:\n",
    "        return partition_entropy_by(inputs, attribute, target_attribute)\n",
    "    \n",
    "    best_attribute = min(split_attributes, key=split_entropy)\n",
    "    \n",
    "    partitions = partition_by(inputs, best_attribute)\n",
    "    new_attributes = [a for a in split_attributes if a!= best_attribute]\n",
    "    \n",
    "    subtrees = {attribute_value: build_tree_id3(subset,\n",
    "                                                new_attributes,\n",
    "                                                target_attribute)\n",
    "               for attribute_value, subset in partitions.items()}\n",
    "    \n",
    "    return  Split(best_attribute, subtrees, default_value=most_common_label)"
   ]
  },
  {
   "cell_type": "code",
   "execution_count": 14,
   "metadata": {},
   "outputs": [],
   "source": [
    "tree = build_tree_id3(inputs, ['level', 'lang', 'tweets', 'phd'], 'did_well')"
   ]
  },
  {
   "cell_type": "code",
   "execution_count": 15,
   "metadata": {},
   "outputs": [
    {
     "name": "stdout",
     "output_type": "stream",
     "text": [
      "Split(attribute='level', subtrees={'Senior': Split(attribute='tweets', subtrees={False: Leaf(value=False), True: Leaf(value=True)}, default_value=False), 'Mid': Leaf(value=True), 'Junior': Split(attribute='phd', subtrees={False: Leaf(value=True), True: Leaf(value=False)}, default_value=True)}, default_value=True)\n"
     ]
    }
   ],
   "source": [
    "print(tree)"
   ]
  },
  {
   "cell_type": "markdown",
   "metadata": {},
   "source": [
    "```Python\n",
    "Split(attribute='level', \n",
    "    subtrees={'Senior': Split(attribute='tweets', subtrees={False: Leaf(value=False), \n",
    "                                                            True: Leaf(value=True)},\n",
    "                                                            default_value=False), \n",
    "              'Mid': Leaf(value=True), \n",
    "              'Junior': Split(attribute='phd', subtrees={False: Leaf(value=True), \n",
    "                                                         True: Leaf(value=False)},                                                                            default_value=True)}, \n",
    "              default_value=True)\n",
    "```"
   ]
  },
  {
   "cell_type": "code",
   "execution_count": 16,
   "metadata": {},
   "outputs": [],
   "source": [
    "assert classify(tree, Candidate(\"Junior\", \"Java\", True, False))\n",
    "assert not classify(tree, Candidate(\"Junior\", \"Java\", True, True))\n",
    "assert classify(tree, Candidate(\"Intern\", \"Java\", True, True))"
   ]
  },
  {
   "cell_type": "code",
   "execution_count": null,
   "metadata": {},
   "outputs": [],
   "source": []
  }
 ],
 "metadata": {
  "kernelspec": {
   "display_name": "dsfs",
   "language": "python",
   "name": "dsfs"
  },
  "language_info": {
   "codemirror_mode": {
    "name": "ipython",
    "version": 3
   },
   "file_extension": ".py",
   "mimetype": "text/x-python",
   "name": "python",
   "nbconvert_exporter": "python",
   "pygments_lexer": "ipython3",
   "version": "3.6.8"
  }
 },
 "nbformat": 4,
 "nbformat_minor": 2
}
