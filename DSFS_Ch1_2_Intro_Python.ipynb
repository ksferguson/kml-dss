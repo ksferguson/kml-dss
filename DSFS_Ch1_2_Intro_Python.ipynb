{
 "cells": [
  {
   "cell_type": "markdown",
   "metadata": {},
   "source": [
    "## Data Science from Scratch\n",
    "\n",
    "#### Meeting: May 25, 2019 @ Cinco Ranch Library, Classroom on 2nd Floor\n",
    "\n",
    "Reading through and working exercises from the Second Edition of Joel Grus' classic book, Data Science from Scratch: First Priciples from Python\n",
    "\n",
    "The Second Edition was released May 13, you can order from Amazon (https://www.amazon.com/Data-Science-Scratch-Principles-Python/dp/1492041130).\n",
    "\n",
    "This slide deck has some notes about the book:\n",
    "https://docs.google.com/presentation/d/1jk-qrVKCb0-P9P4BVzH75gcVhp5Dy5n1CP_gKnHMNY0/edit#slide=id.p\n",
    "\n",
    "Joel's Code:\n",
    "https://github.com/joelgrus/data-science-from-scratch\n",
    "\n",
    "Misc Background:\n",
    "- https://www.youtube.com/user/joelgrus/videos\n",
    "- http://joelgrus.com/2016/05/23/fizz-buzz-in-tensorflow/\n"
   ]
  },
  {
   "cell_type": "markdown",
   "metadata": {},
   "source": [
    "### Changes from 1st Edition\n",
    "\n",
    "- Python 3.6 (plus using explicit Typing, asserts, etc.)\n",
    "- Current Pythonic Style\n",
    "- New material on Deep Learning, NLP, Statistics, etc."
   ]
  },
  {
   "cell_type": "markdown",
   "metadata": {},
   "source": [
    "### Setup on Windows\n",
    "\n",
    "1. Install Anaconda\n",
    "\n",
    "2. Open Anaconda Terminal\n",
    "\n",
    "(base)\n",
    "\n",
    ">conda update conda\n",
    "\n",
    ">conda create -name dsfs python=3.6\n",
    "\n",
    ">conda activate dsfs\n",
    "\n",
    "(dsfs)\n",
    "\n",
    ">conda install git\n",
    "\n",
    ">cd Documents/github\n",
    "\n",
    ">git clone https://github.com/ksferguson/kml-dss.git\n",
    "\n",
    ">cd kml-dss\n",
    "\n",
    ">git status\n",
    "\n",
    ">python -m ipykernel install --user --name=dsfs --display-name=dsfs\n",
    "\n",
    ">jupyter notebook\n",
    "\n",
    "\n",
    "Walkthrough setting up DSFS repo..."
   ]
  },
  {
   "cell_type": "markdown",
   "metadata": {},
   "source": [
    "### Chapter 1 - Introduction\n",
    "Intro to Data Science by example"
   ]
  },
  {
   "cell_type": "markdown",
   "metadata": {},
   "source": [
    "### Chapter 2 - Python"
   ]
  },
  {
   "cell_type": "code",
   "execution_count": 5,
   "metadata": {},
   "outputs": [
    {
     "name": "stdout",
     "output_type": "stream",
     "text": [
      "1\n",
      "1\n",
      "2\n",
      "2\n",
      "3\n",
      "3\n",
      "4\n",
      "4\n",
      "5\n",
      "5\n",
      "6\n",
      "1\n",
      "2\n",
      "1\n",
      "3\n",
      "2\n",
      "4\n",
      "3\n",
      "5\n",
      "4\n",
      "6\n",
      "5\n",
      "7\n",
      "2\n",
      "3\n",
      "1\n",
      "4\n",
      "2\n",
      "5\n",
      "3\n",
      "6\n",
      "4\n",
      "7\n",
      "5\n",
      "8\n",
      "3\n",
      "4\n",
      "1\n",
      "5\n",
      "2\n",
      "6\n",
      "3\n",
      "7\n",
      "4\n",
      "8\n",
      "5\n",
      "9\n",
      "4\n",
      "5\n",
      "1\n",
      "6\n",
      "2\n",
      "7\n",
      "3\n",
      "8\n",
      "4\n",
      "9\n",
      "5\n",
      "10\n",
      "5\n",
      "done looping\n"
     ]
    }
   ],
   "source": [
    "for i in [1, 2, 3, 4, 5]:\n",
    "    print(i)\n",
    "    for j in [1, 2, 3, 4, 5]:\n",
    "        print(j)\n",
    "        print (i+j)\n",
    "    print(i)\n",
    "print(\"done looping\")"
   ]
  },
  {
   "cell_type": "code",
   "execution_count": 6,
   "metadata": {},
   "outputs": [
    {
     "name": "stdout",
     "output_type": "stream",
     "text": [
      "Joel Grus\n",
      "Joel Grus\n",
      "Joel Grus\n"
     ]
    }
   ],
   "source": [
    "# strings\n",
    "\n",
    "#...\n",
    "\n",
    "first_name = \"Joel\"\n",
    "last_name = \"Grus\"\n",
    "\n",
    "full_name_1 = first_name + \" \" + last_name\n",
    "print(full_name_1)\n",
    "\n",
    "full_name_2 = \"{0} {1}\".format(first_name, last_name)\n",
    "print(full_name_2)\n",
    "\n",
    "# neat\n",
    "full_name_3 = f\"{first_name} {last_name}\"\n",
    "print(full_name_3)\n",
    "\n",
    "\n"
   ]
  }
 ],
 "metadata": {
  "kernelspec": {
   "display_name": "dsfs",
   "language": "python",
   "name": "dsfs"
  },
  "language_info": {
   "codemirror_mode": {
    "name": "ipython",
    "version": 3
   },
   "file_extension": ".py",
   "mimetype": "text/x-python",
   "name": "python",
   "nbconvert_exporter": "python",
   "pygments_lexer": "ipython3",
   "version": "3.6.8"
  }
 },
 "nbformat": 4,
 "nbformat_minor": 2
}
