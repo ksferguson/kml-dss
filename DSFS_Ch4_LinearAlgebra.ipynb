{
 "cells": [
  {
   "cell_type": "markdown",
   "metadata": {},
   "source": [
    "## Data Science from Scratch\n",
    "\n",
    "#### Meeting: May 25, 2019 @ Cinco Ranch Library, Classroom on 2nd Floor\n",
    "\n",
    "Reading through and working exercises from the Second Edition of Joel Grus' classic book, Data Science from Scratch: First Priciples from Python\n",
    "\n",
    "The Second Edition was released May 13, you can order from Amazon (https://www.amazon.com/Data-Science-Scratch-Principles-Python/dp/1492041130).\n",
    "\n",
    "This slide deck has some notes about the book:\n",
    "https://docs.google.com/presentation/d/1jk-qrVKCb0-P9P4BVzH75gcVhp5Dy5n1CP_gKnHMNY0/edit#slide=id.p\n",
    "\n",
    "Joel's Code:\n",
    "https://github.com/joelgrus/data-science-from-scratch\n",
    "\n",
    "Misc Background:\n",
    "- https://www.youtube.com/user/joelgrus/videos\n",
    "- http://joelgrus.com/2016/05/23/fizz-buzz-in-tensorflow/\n"
   ]
  },
  {
   "cell_type": "markdown",
   "metadata": {},
   "source": [
    "### Chapter 4 - Linear Algebra"
   ]
  },
  {
   "cell_type": "code",
   "execution_count": 3,
   "metadata": {},
   "outputs": [],
   "source": [
    "from typing import List\n",
    "Vector = List[float]\n",
    "\n",
    "height_weight_age = [70,  # inches\n",
    "                    170,  # pounds\n",
    "                    40]   # years\n",
    "\n",
    "grades = [95,\n",
    "         80,\n",
    "         75,\n",
    "         62]"
   ]
  },
  {
   "cell_type": "code",
   "execution_count": 4,
   "metadata": {},
   "outputs": [],
   "source": [
    "# vector operations - add\n",
    "\n",
    "def add(v: Vector, w: Vector) -> Vector:\n",
    "    \"\"\"Adds corresponding elements\"\"\"\n",
    "    assert len(v) == len(w), \"vectors must be the same length\"\n",
    "    return [v_i + w_i for v_i, w_i in zip(v, w)]\n",
    "\n",
    "assert add([1, 2, 3], [4, 5, 6]) == [5, 7, 9], \"test case: add()\""
   ]
  },
  {
   "cell_type": "code",
   "execution_count": 5,
   "metadata": {},
   "outputs": [],
   "source": [
    "# vector operations - subtract\n",
    "\n",
    "def subtract(v: Vector, w: Vector) -> Vector:\n",
    "    \"\"\"Subtracts corresponding elements\"\"\"\n",
    "    assert len(v) == len(w), \"vectors must be the same length\"\n",
    "    return [v_i - w_i for v_i, w_i in zip(v, w)]\n",
    "\n",
    "assert subtract([5, 7, 9], [4, 5, 6]) == [1, 2, 3], \"test case: subtract()\""
   ]
  },
  {
   "cell_type": "code",
   "execution_count": 6,
   "metadata": {},
   "outputs": [],
   "source": [
    "# vector operations - sum\n",
    "\n",
    "def vector_sum(vectors: List[Vector]) -> Vector:\n",
    "    \"\"\"Sums all corresponding elements\"\"\"\n",
    "    \n",
    "    # check vector is not empty\n",
    "    assert vectors, \"vectors must exist\"\n",
    "    \n",
    "    # check vectors same length\n",
    "    num_elements = len(vectors[0])\n",
    "    assert all(len(v) == num_elements for v in vectors), \"different sizes\"\n",
    "    \n",
    "    return [sum(vector[i] for vector in vectors) for i in range(num_elements)]\n",
    "\n",
    "assert vector_sum([[1, 2], [3, 4], [5, 6], [7, 8]]) == [16, 20], \"test case: vector_sum()\""
   ]
  },
  {
   "cell_type": "code",
   "execution_count": 7,
   "metadata": {},
   "outputs": [],
   "source": [
    "# vector operations - sum\n",
    "\n",
    "def scalar_multiply(c: float, v: Vector) -> Vector:\n",
    "    \"\"\"Multiplies every element by c\"\"\"\n",
    "    return [c * v_i for v_i in v]\n",
    "\n",
    "assert scalar_multiply(2, [1, 2, 3]) == [2, 4 , 6], \"test case: scalar_multiply()\""
   ]
  },
  {
   "cell_type": "code",
   "execution_count": 8,
   "metadata": {},
   "outputs": [
    {
     "name": "stdout",
     "output_type": "stream",
     "text": [
      "4\n"
     ]
    }
   ],
   "source": [
    "a = 4\n",
    "\n",
    "print(a)"
   ]
  },
  {
   "cell_type": "code",
   "execution_count": 9,
   "metadata": {},
   "outputs": [
    {
     "name": "stdout",
     "output_type": "stream",
     "text": [
      "4\n"
     ]
    }
   ],
   "source": [
    "b = a\n",
    "\n",
    "print(b)\n"
   ]
  },
  {
   "cell_type": "code",
   "execution_count": 10,
   "metadata": {},
   "outputs": [
    {
     "name": "stdout",
     "output_type": "stream",
     "text": [
      "4\n"
     ]
    }
   ],
   "source": [
    "a =3 \n",
    "print(b)"
   ]
  },
  {
   "cell_type": "code",
   "execution_count": null,
   "metadata": {},
   "outputs": [],
   "source": []
  }
 ],
 "metadata": {
  "kernelspec": {
   "display_name": "dsfs",
   "language": "python",
   "name": "dsfs"
  },
  "language_info": {
   "codemirror_mode": {
    "name": "ipython",
    "version": 3
   },
   "file_extension": ".py",
   "mimetype": "text/x-python",
   "name": "python",
   "nbconvert_exporter": "python",
   "pygments_lexer": "ipython3",
   "version": "3.6.8"
  }
 },
 "nbformat": 4,
 "nbformat_minor": 2
}
